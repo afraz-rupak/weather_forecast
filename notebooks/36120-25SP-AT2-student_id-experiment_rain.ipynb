{
 "cells": [
  {
   "cell_type": "markdown",
   "metadata": {
    "id": "uQ6wc2HE0pke"
   },
   "source": [
    "# **Experiment Notebook**\n",
    "\n"
   ]
  },
  {
   "cell_type": "code",
   "execution_count": 1,
   "metadata": {
    "id": "qNOA146K2c6f"
   },
   "outputs": [],
   "source": [
    "# Do not modify this code\n",
    "!pip install -q utstd\n",
    "\n",
    "from utstd.ipyrenders import *"
   ]
  },
  {
   "cell_type": "code",
   "execution_count": 2,
   "metadata": {
    "id": "6FneOmBfka9G"
   },
   "outputs": [],
   "source": [
    "# Do not modify this code\n",
    "import warnings\n",
    "warnings.simplefilter(action='ignore')"
   ]
  },
  {
   "cell_type": "markdown",
   "metadata": {
    "id": "mXFKfa2tp1ch"
   },
   "source": [
    "## 0. Import Packages"
   ]
  },
  {
   "cell_type": "code",
   "execution_count": 3,
   "metadata": {
    "id": "GBEAwdncnlAx"
   },
   "outputs": [],
   "source": [
    "# <Student to fill this section>\n",
    "import pandas as pd\n",
    "import numpy as np\n",
    "import matplotlib.pyplot as plt\n",
    "import seaborn as sns\n",
    "import datetime\n",
    "import os\n",
    "import requests\n",
    "import zipfile\n",
    "import io\n",
    "from sklearn.model_selection import train_test_split\n",
    "from sklearn.linear_model import LinearRegression\n",
    "from sklearn.metrics import mean_squared_error, mean_absolute_error\n",
    "from sklearn.preprocessing import StandardScaler\n",
    "from sklearn.ensemble import RandomForestRegressor\n",
    "from sklearn.neighbors import KNeighborsRegressor\n",
    "from sklearn.model_selection import GridSearchCV"
   ]
  },
  {
   "cell_type": "markdown",
   "metadata": {
    "id": "tQgxLRrvjiJb"
   },
   "source": [
    "---\n",
    "## A. Project Description\n"
   ]
  },
  {
   "cell_type": "code",
   "execution_count": 4,
   "metadata": {
    "id": "Je1EzzfFD5hj"
   },
   "outputs": [],
   "source": [
    "# <Student to fill this section>\n",
    "student_name = \"Afraz Ul Haque\"\n",
    "student_id = \"25627377\""
   ]
  },
  {
   "cell_type": "code",
   "execution_count": 5,
   "metadata": {
    "id": "pdKiYvFWD5my"
   },
   "outputs": [
    {
     "data": {
      "text/html": [
       "<p style=\"color:grey\">student_name</p><h1 font-size: 3em>Afraz Ul Haque</h1>"
      ],
      "text/plain": [
       "<IPython.core.display.HTML object>"
      ]
     },
     "metadata": {},
     "output_type": "display_data"
    }
   ],
   "source": [
    "# Do not modify this code\n",
    "print_tile(size=\"h1\", key='student_name', value=student_name)"
   ]
  },
  {
   "cell_type": "code",
   "execution_count": 6,
   "metadata": {
    "id": "9KTEbRjqD5o_"
   },
   "outputs": [
    {
     "data": {
      "text/html": [
       "<p style=\"color:grey\">student_id</p><h1 font-size: 3em>25627377</h1>"
      ],
      "text/plain": [
       "<IPython.core.display.HTML object>"
      ]
     },
     "metadata": {},
     "output_type": "display_data"
    }
   ],
   "source": [
    "# Do not modify this code\n",
    "print_tile(size=\"h1\", key='student_id', value=student_id)"
   ]
  },
  {
   "cell_type": "markdown",
   "metadata": {
    "id": "4q1Bzcejvfpm"
   },
   "source": [
    "---\n",
    "## B. Business Understanding"
   ]
  },
  {
   "cell_type": "code",
   "execution_count": 7,
   "metadata": {
    "id": "Mmo6apC9EEv8"
   },
   "outputs": [],
   "source": [
    "# <Student to fill this section>\n",
    "business_use_case_description = \"\"\"\n",
    "The goal of this project is to predict whether it will rain in the next 7 days based on current weather conditions.\n",
    "This is a binary classification problem where we aim to forecast precipitation events up to a week in advance.\n",
    "The model will help in weather forecasting, agricultural planning, event management, and disaster preparedness.\n",
    "By analyzing historical weather patterns and current meteorological conditions, we can provide early warnings\n",
    "for precipitation events that may impact various business operations and daily activities.\n",
    "\"\"\""
   ]
  },
  {
   "cell_type": "code",
   "execution_count": 8,
   "metadata": {
    "id": "bgb0DkG2EE2e"
   },
   "outputs": [
    {
     "data": {
      "text/html": [
       "<p style=\"color:grey\">business_use_case_description</p><h3 font-size: 3em>\n",
       "The goal of this project is to predict whether it will rain in the next 7 days based on current weather conditions.\n",
       "This is a binary classification problem where we aim to forecast precipitation events up to a week in advance.\n",
       "The model will help in weather forecasting, agricultural planning, event management, and disaster preparedness.\n",
       "By analyzing historical weather patterns and current meteorological conditions, we can provide early warnings\n",
       "for precipitation events that may impact various business operations and daily activities.\n",
       "</h3>"
      ],
      "text/plain": [
       "<IPython.core.display.HTML object>"
      ]
     },
     "metadata": {},
     "output_type": "display_data"
    }
   ],
   "source": [
    "# Do not modify this code\n",
    "print_tile(size=\"h3\", key='business_use_case_description', value=business_use_case_description)"
   ]
  },
  {
   "cell_type": "code",
   "execution_count": 9,
   "metadata": {
    "id": "29Yqk3d2EE8q"
   },
   "outputs": [],
   "source": [
    "# <Student to fill this section>\n",
    "business_objectives = \"\"\"\n",
    "Accurate predictions will enable: 1) Farmers to plan irrigation and crop protection activities,\n",
    "2) Event organizers to make informed decisions about outdoor events, 3) Transportation companies to\n",
    "prepare for weather-related disruptions, 4) Emergency services to pre-position resources.\n",
    "Incorrect results could lead to: 1) False positives - unnecessary preparation costs and canceled events,\n",
    "2) False negatives - crop damage, unprepared emergency response, safety hazards, and financial losses.\n",
    "The cost of false negatives (missing rain events) is typically higher than false positives\n",
    "due to potential damage and safety concerns.\n",
    "\"\"\""
   ]
  },
  {
   "cell_type": "code",
   "execution_count": 10,
   "metadata": {
    "id": "sSu_8J96EFDs"
   },
   "outputs": [
    {
     "data": {
      "text/html": [
       "<p style=\"color:grey\">business_objectives</p><h3 font-size: 3em>\n",
       "Accurate predictions will enable: 1) Farmers to plan irrigation and crop protection activities,\n",
       "2) Event organizers to make informed decisions about outdoor events, 3) Transportation companies to\n",
       "prepare for weather-related disruptions, 4) Emergency services to pre-position resources.\n",
       "Incorrect results could lead to: 1) False positives - unnecessary preparation costs and canceled events,\n",
       "2) False negatives - crop damage, unprepared emergency response, safety hazards, and financial losses.\n",
       "The cost of false negatives (missing rain events) is typically higher than false positives\n",
       "due to potential damage and safety concerns.\n",
       "</h3>"
      ],
      "text/plain": [
       "<IPython.core.display.HTML object>"
      ]
     },
     "metadata": {},
     "output_type": "display_data"
    }
   ],
   "source": [
    "# Do not modify this code\n",
    "print_tile(size=\"h3\", key='business_objectives', value=business_objectives)"
   ]
  },
  {
   "cell_type": "code",
   "execution_count": 11,
   "metadata": {
    "id": "Hf4ThY5cEF5W"
   },
   "outputs": [],
   "source": [
    "# <Student to fill this section>\n",
    "stakeholders_expectations_explanations = \"\"\"\n",
    "The predictions will be used by: 1) Agricultural sector - farmers and crop managers for irrigation scheduling\n",
    "and crop protection decisions, 2) Event management companies - for outdoor event planning and contingency\n",
    "preparations, 3) Transportation and logistics - for route planning and resource allocation,\n",
    "4) Emergency services - for disaster preparedness and resource positioning, 5) Insurance companies -\n",
    "for risk assessment and premium calculations. All stakeholders expect reliable advance warnings\n",
    "with acceptable false positive rates to minimize unnecessary costs while ensuring safety and preparedness.\n",
    "\"\"\""
   ]
  },
  {
   "cell_type": "code",
   "execution_count": 12,
   "metadata": {
    "id": "jH9a2X70EF8M"
   },
   "outputs": [
    {
     "data": {
      "text/html": [
       "<p style=\"color:grey\">stakeholders_expectations_explanations</p><h3 font-size: 3em>\n",
       "The predictions will be used by: 1) Agricultural sector - farmers and crop managers for irrigation scheduling\n",
       "and crop protection decisions, 2) Event management companies - for outdoor event planning and contingency\n",
       "preparations, 3) Transportation and logistics - for route planning and resource allocation,\n",
       "4) Emergency services - for disaster preparedness and resource positioning, 5) Insurance companies -\n",
       "for risk assessment and premium calculations. All stakeholders expect reliable advance warnings\n",
       "with acceptable false positive rates to minimize unnecessary costs while ensuring safety and preparedness.\n",
       "</h3>"
      ],
      "text/plain": [
       "<IPython.core.display.HTML object>"
      ]
     },
     "metadata": {},
     "output_type": "display_data"
    }
   ],
   "source": [
    "# Do not modify this code\n",
    "print_tile(size=\"h3\", key='stakeholders_expectations_explanations', value=stakeholders_expectations_explanations)"
   ]
  },
  {
   "cell_type": "markdown",
   "metadata": {
    "id": "P0zsEPshwy1K"
   },
   "source": [
    "---\n",
    "## C. Data Understanding"
   ]
  },
  {
   "cell_type": "markdown",
   "metadata": {
    "id": "sGMWhKSbUl63"
   },
   "source": [
    "### C.1   Load Datasets\n"
   ]
  },
  {
   "cell_type": "code",
   "execution_count": 13,
   "metadata": {
    "id": "NKgOzSn-w0eq"
   },
   "outputs": [],
   "source": [
    "# <Student to fill this section>\n",
    "daily_df = pd.read_csv('../data/raw/daily_with_targets.csv')\n",
    "hourly_df = pd.read_csv('../data/raw/hourly_with_targets.csv')"
   ]
  },
  {
   "cell_type": "markdown",
   "metadata": {
    "id": "tpG_mos_EXrY"
   },
   "source": [
    "### C.2 Define Target variable"
   ]
  },
  {
   "cell_type": "code",
   "execution_count": 14,
   "metadata": {
    "id": "gsQkuxYLVHb1"
   },
   "outputs": [
    {
     "data": {
      "text/html": [
       "<div>\n",
       "<style scoped>\n",
       "    .dataframe tbody tr th:only-of-type {\n",
       "        vertical-align: middle;\n",
       "    }\n",
       "\n",
       "    .dataframe tbody tr th {\n",
       "        vertical-align: top;\n",
       "    }\n",
       "\n",
       "    .dataframe thead th {\n",
       "        text-align: right;\n",
       "    }\n",
       "</style>\n",
       "<table border=\"1\" class=\"dataframe\">\n",
       "  <thead>\n",
       "    <tr style=\"text-align: right;\">\n",
       "      <th></th>\n",
       "      <th>date</th>\n",
       "      <th>temperature_2m_max</th>\n",
       "      <th>temperature_2m_min</th>\n",
       "      <th>temperature_2m_mean</th>\n",
       "      <th>relative_humidity_2m_max</th>\n",
       "      <th>relative_humidity_2m_min</th>\n",
       "      <th>pressure_msl_mean</th>\n",
       "      <th>wind_speed_10m_max</th>\n",
       "      <th>wind_speed_10m_mean</th>\n",
       "      <th>wind_direction_10m_dominant</th>\n",
       "      <th>precipitation_sum</th>\n",
       "      <th>rain_sum</th>\n",
       "      <th>shortwave_radiation_sum</th>\n",
       "      <th>daylight_duration</th>\n",
       "      <th>rain_in_7_days</th>\n",
       "    </tr>\n",
       "  </thead>\n",
       "  <tbody>\n",
       "    <tr>\n",
       "      <th>0</th>\n",
       "      <td>2020-01-01</td>\n",
       "      <td>23.9</td>\n",
       "      <td>19.2</td>\n",
       "      <td>21.6</td>\n",
       "      <td>82</td>\n",
       "      <td>56</td>\n",
       "      <td>1014.3</td>\n",
       "      <td>19.6</td>\n",
       "      <td>16.3</td>\n",
       "      <td>168</td>\n",
       "      <td>0.0</td>\n",
       "      <td>0.0</td>\n",
       "      <td>28.18</td>\n",
       "      <td>51704.47</td>\n",
       "      <td>1</td>\n",
       "    </tr>\n",
       "    <tr>\n",
       "      <th>1</th>\n",
       "      <td>2020-01-02</td>\n",
       "      <td>25.2</td>\n",
       "      <td>20.2</td>\n",
       "      <td>22.1</td>\n",
       "      <td>86</td>\n",
       "      <td>55</td>\n",
       "      <td>1017.9</td>\n",
       "      <td>19.5</td>\n",
       "      <td>14.3</td>\n",
       "      <td>137</td>\n",
       "      <td>0.9</td>\n",
       "      <td>0.9</td>\n",
       "      <td>24.85</td>\n",
       "      <td>51671.07</td>\n",
       "      <td>1</td>\n",
       "    </tr>\n",
       "    <tr>\n",
       "      <th>2</th>\n",
       "      <td>2020-01-03</td>\n",
       "      <td>28.8</td>\n",
       "      <td>20.8</td>\n",
       "      <td>23.7</td>\n",
       "      <td>95</td>\n",
       "      <td>56</td>\n",
       "      <td>1014.4</td>\n",
       "      <td>26.3</td>\n",
       "      <td>14.4</td>\n",
       "      <td>67</td>\n",
       "      <td>1.7</td>\n",
       "      <td>1.7</td>\n",
       "      <td>26.92</td>\n",
       "      <td>51634.70</td>\n",
       "      <td>0</td>\n",
       "    </tr>\n",
       "    <tr>\n",
       "      <th>3</th>\n",
       "      <td>2020-01-04</td>\n",
       "      <td>41.8</td>\n",
       "      <td>19.9</td>\n",
       "      <td>29.4</td>\n",
       "      <td>97</td>\n",
       "      <td>18</td>\n",
       "      <td>1008.0</td>\n",
       "      <td>41.8</td>\n",
       "      <td>15.5</td>\n",
       "      <td>29</td>\n",
       "      <td>0.0</td>\n",
       "      <td>0.0</td>\n",
       "      <td>28.23</td>\n",
       "      <td>51595.43</td>\n",
       "      <td>1</td>\n",
       "    </tr>\n",
       "    <tr>\n",
       "      <th>4</th>\n",
       "      <td>2020-01-05</td>\n",
       "      <td>24.4</td>\n",
       "      <td>20.4</td>\n",
       "      <td>21.9</td>\n",
       "      <td>73</td>\n",
       "      <td>59</td>\n",
       "      <td>1017.9</td>\n",
       "      <td>34.6</td>\n",
       "      <td>24.8</td>\n",
       "      <td>169</td>\n",
       "      <td>0.2</td>\n",
       "      <td>0.2</td>\n",
       "      <td>22.91</td>\n",
       "      <td>51553.35</td>\n",
       "      <td>1</td>\n",
       "    </tr>\n",
       "  </tbody>\n",
       "</table>\n",
       "</div>"
      ],
      "text/plain": [
       "         date  temperature_2m_max  temperature_2m_min  temperature_2m_mean  \\\n",
       "0  2020-01-01                23.9                19.2                 21.6   \n",
       "1  2020-01-02                25.2                20.2                 22.1   \n",
       "2  2020-01-03                28.8                20.8                 23.7   \n",
       "3  2020-01-04                41.8                19.9                 29.4   \n",
       "4  2020-01-05                24.4                20.4                 21.9   \n",
       "\n",
       "   relative_humidity_2m_max  relative_humidity_2m_min  pressure_msl_mean  \\\n",
       "0                        82                        56             1014.3   \n",
       "1                        86                        55             1017.9   \n",
       "2                        95                        56             1014.4   \n",
       "3                        97                        18             1008.0   \n",
       "4                        73                        59             1017.9   \n",
       "\n",
       "   wind_speed_10m_max  wind_speed_10m_mean  wind_direction_10m_dominant  \\\n",
       "0                19.6                 16.3                          168   \n",
       "1                19.5                 14.3                          137   \n",
       "2                26.3                 14.4                           67   \n",
       "3                41.8                 15.5                           29   \n",
       "4                34.6                 24.8                          169   \n",
       "\n",
       "   precipitation_sum  rain_sum  shortwave_radiation_sum  daylight_duration  \\\n",
       "0                0.0       0.0                    28.18           51704.47   \n",
       "1                0.9       0.9                    24.85           51671.07   \n",
       "2                1.7       1.7                    26.92           51634.70   \n",
       "3                0.0       0.0                    28.23           51595.43   \n",
       "4                0.2       0.2                    22.91           51553.35   \n",
       "\n",
       "   rain_in_7_days  \n",
       "0               1  \n",
       "1               1  \n",
       "2               0  \n",
       "3               1  \n",
       "4               1  "
      ]
     },
     "execution_count": 14,
     "metadata": {},
     "output_type": "execute_result"
    }
   ],
   "source": [
    "# <Student to fill this section>\n",
    "daily_df.head()"
   ]
  },
  {
   "cell_type": "code",
   "execution_count": 15,
   "metadata": {
    "id": "4Z0I4L_cVITG"
   },
   "outputs": [
    {
     "data": {
      "text/plain": [
       "rain_in_7_days\n",
       "1    1240\n",
       "0     768\n",
       "Name: count, dtype: int64"
      ]
     },
     "execution_count": 15,
     "metadata": {},
     "output_type": "execute_result"
    }
   ],
   "source": [
    "daily_df['rain_in_7_days'].value_counts()"
   ]
  },
  {
   "cell_type": "code",
   "execution_count": 16,
   "metadata": {},
   "outputs": [],
   "source": [
    "target_col = 'rain_in_7_days'"
   ]
  },
  {
   "cell_type": "code",
   "execution_count": 17,
   "metadata": {
    "id": "RiqBkEQ-EjIZ"
   },
   "outputs": [],
   "source": [
    "# <Student to fill this section>\n",
    "target_definition_explanations = \"\"\"\n",
    "The target variable 'rain_in_7_days' is a binary classification target that indicates whether precipitation\n",
    "will occur within the next 7 days (1 = rain expected, 0 = no rain expected). This 7-day forecast window\n",
    "is strategically chosen because it provides sufficient lead time for stakeholders to take preventive actions\n",
    "while maintaining reasonable prediction accuracy. A 7-day horizon allows farmers to adjust irrigation schedules,\n",
    "event planners to make venue decisions, and emergency services to prepare resources. The binary nature\n",
    "simplifies decision-making compared to regression models that predict exact precipitation amounts.\n",
    "\"\"\""
   ]
  },
  {
   "cell_type": "code",
   "execution_count": 18,
   "metadata": {
    "id": "qdeiAKiIElvG"
   },
   "outputs": [
    {
     "data": {
      "text/html": [
       "<p style=\"color:grey\">target_definition_explanations</p><h3 font-size: 3em>\n",
       "The target variable 'rain_in_7_days' is a binary classification target that indicates whether precipitation\n",
       "will occur within the next 7 days (1 = rain expected, 0 = no rain expected). This 7-day forecast window\n",
       "is strategically chosen because it provides sufficient lead time for stakeholders to take preventive actions\n",
       "while maintaining reasonable prediction accuracy. A 7-day horizon allows farmers to adjust irrigation schedules,\n",
       "event planners to make venue decisions, and emergency services to prepare resources. The binary nature\n",
       "simplifies decision-making compared to regression models that predict exact precipitation amounts.\n",
       "</h3>"
      ],
      "text/plain": [
       "<IPython.core.display.HTML object>"
      ]
     },
     "metadata": {},
     "output_type": "display_data"
    }
   ],
   "source": [
    "# Do not modify this code\n",
    "print_tile(size=\"h3\", key='target_definition_explanations', value=target_definition_explanations)"
   ]
  },
  {
   "cell_type": "markdown",
   "metadata": {
    "id": "_NCwQQFkU3v5"
   },
   "source": [
    "---\n",
    "## D. Feature Selection\n"
   ]
  },
  {
   "cell_type": "markdown",
   "metadata": {
    "id": "0b8C9WON3Toe"
   },
   "source": [
    "### D.1 Approach \"\\<describe_approach_here\\>\"\n"
   ]
  },
  {
   "cell_type": "code",
   "execution_count": 19,
   "metadata": {
    "id": "zfC-DLKv4AuM"
   },
   "outputs": [],
   "source": [
    "# <Student to fill this section>"
   ]
  },
  {
   "cell_type": "code",
   "execution_count": 20,
   "metadata": {
    "id": "J2_6it8iViBX"
   },
   "outputs": [
    {
     "data": {
      "text/plain": [
       "Index(['date', 'temperature_2m_max', 'temperature_2m_min',\n",
       "       'temperature_2m_mean', 'relative_humidity_2m_max',\n",
       "       'relative_humidity_2m_min', 'pressure_msl_mean', 'wind_speed_10m_max',\n",
       "       'wind_speed_10m_mean', 'wind_direction_10m_dominant',\n",
       "       'precipitation_sum', 'rain_sum', 'shortwave_radiation_sum',\n",
       "       'daylight_duration', 'rain_in_7_days'],\n",
       "      dtype='object')"
      ]
     },
     "execution_count": 20,
     "metadata": {},
     "output_type": "execute_result"
    }
   ],
   "source": [
    "daily_df.columns"
   ]
  },
  {
   "cell_type": "code",
   "execution_count": 21,
   "metadata": {},
   "outputs": [],
   "source": [
    "\n",
    "daily_df['date'] = pd.to_datetime(daily_df['date'], format='%Y-%m-%d', errors='coerce')\n",
    "daily_df['day'] = daily_df['date'].dt.day\n",
    "daily_df['month'] = daily_df['date'].dt.month\n",
    "daily_df['year'] = daily_df['date'].dt.year"
   ]
  },
  {
   "cell_type": "code",
   "execution_count": 22,
   "metadata": {
    "id": "Z9myLlFZFQXj"
   },
   "outputs": [],
   "source": [
    "# <Student to fill this section>\n",
    "feature_selection_1_insights = \"\"\"\n",
    "provide an explanation on why you use this approach for feature selection and describe its results\n",
    "\"\"\""
   ]
  },
  {
   "cell_type": "code",
   "execution_count": 23,
   "metadata": {
    "id": "937YFeqDFQgB"
   },
   "outputs": [
    {
     "data": {
      "text/html": [
       "<p style=\"color:grey\">feature_selection_1_insights</p><h3 font-size: 3em>\n",
       "provide an explanation on why you use this approach for feature selection and describe its results\n",
       "</h3>"
      ],
      "text/plain": [
       "<IPython.core.display.HTML object>"
      ]
     },
     "metadata": {},
     "output_type": "display_data"
    }
   ],
   "source": [
    "# Do not modify this code\n",
    "print_tile(size=\"h3\", key='feature_selection_1_insights', value=feature_selection_1_insights)"
   ]
  },
  {
   "cell_type": "markdown",
   "metadata": {
    "id": "jqRcgUqu3ZuV"
   },
   "source": [
    "### D.2 Approach \"\\<describe_approach_here\\>\"\n"
   ]
  },
  {
   "cell_type": "code",
   "execution_count": 24,
   "metadata": {
    "id": "dAPSiwcg3aJC"
   },
   "outputs": [],
   "source": [
    "# <Student to fill this section>"
   ]
  },
  {
   "cell_type": "code",
   "execution_count": 25,
   "metadata": {},
   "outputs": [
    {
     "name": "stdout",
     "output_type": "stream",
     "text": [
      "Correlation with target (signed):\n",
      "daylight_duration              0.233749\n",
      "temperature_2m_mean            0.231480\n",
      "temperature_2m_min             0.220343\n",
      "temperature_2m_max             0.190456\n",
      "shortwave_radiation_sum        0.141567\n",
      "relative_humidity_2m_max       0.074068\n",
      "relative_humidity_2m_min       0.062105\n",
      "precipitation_sum              0.050271\n",
      "rain_sum                       0.050271\n",
      "wind_speed_10m_max             0.046048\n",
      "wind_speed_10m_mean            0.022265\n",
      "day                           -0.015570\n",
      "year                          -0.015576\n",
      "month                         -0.059396\n",
      "pressure_msl_mean             -0.092252\n",
      "wind_direction_10m_dominant   -0.136258\n"
     ]
    },
    {
     "data": {
      "image/png": "[encoded data removed]",
      "text/plain": [
       "<Figure size 800x500 with 1 Axes>"
      ]
     },
     "metadata": {},
     "output_type": "display_data"
    }
   ],
   "source": [
    "\n",
    "assert target_col in daily_df.columns, f\"Target column '{target_col}' not found in daily_df.\"\n",
    "\n",
    "numeric_cols = daily_df.select_dtypes(include=[np.number]).columns\n",
    "corr_matrix = daily_df[numeric_cols].corr(numeric_only=True)\n",
    "\n",
    "# Correlations with target (signed) and by absolute magnitude\n",
    "target_corr = corr_matrix[target_col].drop(labels=[target_col]).sort_values(ascending=False)\n",
    "abs_target_corr = target_corr.abs().sort_values(ascending=False)\n",
    "\n",
    "print(\"Correlation with target (signed):\")\n",
    "print(target_corr.to_string())\n",
    "\n",
    "# Plot top 10 features by absolute correlation\n",
    "top_n = 10\n",
    "top_features = abs_target_corr.head(top_n).index\n",
    "plt.figure(figsize=(8, 5))\n",
    "sns.barplot(\n",
    "    x=abs_target_corr.loc[top_features].values,\n",
    "    y=top_features,\n",
    "    orient='h',\n",
    "    palette='viridis'\n",
    ")\n",
    "plt.xlabel('Absolute correlation with rain_in_7_days')\n",
    "plt.ylabel('Feature')\n",
    "plt.title(f'Top {min(top_n, len(top_features))} features correlated with target')\n",
    "plt.tight_layout()\n",
    "plt.show()"
   ]
  },
  {
   "cell_type": "code",
   "execution_count": null,
   "metadata": {},
   "outputs": [],
   "source": []
  },
  {
   "cell_type": "code",
   "execution_count": 26,
   "metadata": {
    "id": "CpQQodTW3a9v"
   },
   "outputs": [],
   "source": [
    "# <Student to fill this section>\n",
    "feature_selection_2_insights = \"\"\"\n",
    "provide an explanation on why you use this approach for feature selection and describe its results\n",
    "\"\"\""
   ]
  },
  {
   "cell_type": "code",
   "execution_count": 27,
   "metadata": {
    "id": "HjN2qhDb3a0G"
   },
   "outputs": [
    {
     "data": {
      "text/html": [
       "<p style=\"color:grey\">feature_selection_2_insights</p><h3 font-size: 3em>\n",
       "provide an explanation on why you use this approach for feature selection and describe its results\n",
       "</h3>"
      ],
      "text/plain": [
       "<IPython.core.display.HTML object>"
      ]
     },
     "metadata": {},
     "output_type": "display_data"
    }
   ],
   "source": [
    "# Do not modify this code\n",
    "print_tile(size=\"h3\", key='feature_selection_2_insights', value=feature_selection_2_insights)"
   ]
  },
  {
   "cell_type": "markdown",
   "metadata": {
    "id": "6sK5poaV3hny"
   },
   "source": [
    "### D.n Approach \"\\<describe_approach_here\\>\"\n",
    "\n",
    "> You can add more cells related to other approaches in this section"
   ]
  },
  {
   "cell_type": "code",
   "execution_count": 28,
   "metadata": {
    "id": "AatlZepC3h_D"
   },
   "outputs": [
    {
     "data": {
      "text/plain": [
       "Index(['date', 'temperature_2m_max', 'temperature_2m_min',\n",
       "       'temperature_2m_mean', 'relative_humidity_2m_max',\n",
       "       'relative_humidity_2m_min', 'pressure_msl_mean', 'wind_speed_10m_max',\n",
       "       'wind_speed_10m_mean', 'wind_direction_10m_dominant',\n",
       "       'precipitation_sum', 'rain_sum', 'shortwave_radiation_sum',\n",
       "       'daylight_duration', 'rain_in_7_days', 'day', 'month', 'year'],\n",
       "      dtype='object')"
      ]
     },
     "execution_count": 28,
     "metadata": {},
     "output_type": "execute_result"
    }
   ],
   "source": [
    "daily_df.columns"
   ]
  },
  {
   "cell_type": "markdown",
   "metadata": {
    "id": "gS5-tS8_3ryn"
   },
   "source": [
    "## D.z Final Selection of Features"
   ]
  },
  {
   "cell_type": "code",
   "execution_count": 29,
   "metadata": {
    "id": "zYY4u2063ioF"
   },
   "outputs": [],
   "source": [
    "# <Student to fill this section>\n",
    "\n",
    "features_list = ['date', 'temperature_2m_max', 'temperature_2m_min',\n",
    "       'temperature_2m_mean', 'relative_humidity_2m_max',\n",
    "       'relative_humidity_2m_min', 'pressure_msl_mean', 'wind_speed_10m_max',\n",
    "       'wind_speed_10m_mean', 'wind_direction_10m_dominant',\n",
    "       'precipitation_sum', 'rain_sum', 'shortwave_radiation_sum',\n",
    "       'daylight_duration', 'rain_in_7_days']"
   ]
  },
  {
   "cell_type": "code",
   "execution_count": null,
   "metadata": {
    "id": "-Blv0kUV3ib2"
   },
   "outputs": [],
   "source": []
  },
  {
   "cell_type": "code",
   "execution_count": 30,
   "metadata": {
    "id": "-pxVH1r63vqu"
   },
   "outputs": [],
   "source": [
    "# <Student to fill this section>\n",
    "feature_selection_explanations = \"\"\"\n",
    "provide a quick explanation on the features selected\n",
    "\"\"\""
   ]
  },
  {
   "cell_type": "code",
   "execution_count": 31,
   "metadata": {
    "id": "rHluIUmR3iO3"
   },
   "outputs": [
    {
     "data": {
      "text/html": [
       "<p style=\"color:grey\">feature_selection_explanations</p><h3 font-size: 3em>\n",
       "provide a quick explanation on the features selected\n",
       "</h3>"
      ],
      "text/plain": [
       "<IPython.core.display.HTML object>"
      ]
     },
     "metadata": {},
     "output_type": "display_data"
    }
   ],
   "source": [
    "# Do not modify this code\n",
    "print_tile(size=\"h3\", key='feature_selection_explanations', value=feature_selection_explanations)"
   ]
  },
  {
   "cell_type": "markdown",
   "metadata": {
    "id": "j-nNSpJK0Rgu"
   },
   "source": [
    "---\n",
    "## E. Data Preparation"
   ]
  },
  {
   "cell_type": "code",
   "execution_count": null,
   "metadata": {
    "id": "_x2xJAZ7Vxpb"
   },
   "outputs": [],
   "source": []
  },
  {
   "cell_type": "markdown",
   "metadata": {
    "id": "N8MNBrC4Zgz6"
   },
   "source": [
    "---\n",
    "## G. Data Preparation for Modeling"
   ]
  },
  {
   "cell_type": "markdown",
   "metadata": {
    "id": "HbpTjW2GGkd8"
   },
   "source": [
    "### G.1 Split Datasets"
   ]
  },
  {
   "cell_type": "code",
   "execution_count": 32,
   "metadata": {
    "id": "kcJ8_kh6Gnjl"
   },
   "outputs": [],
   "source": [
    "# <Student to fill this section>"
   ]
  },
  {
   "cell_type": "code",
   "execution_count": null,
   "metadata": {
    "id": "tyVDHxW4WBGP"
   },
   "outputs": [],
   "source": []
  },
  {
   "cell_type": "code",
   "execution_count": 33,
   "metadata": {},
   "outputs": [
    {
     "name": "stdout",
     "output_type": "stream",
     "text": [
      "Train size: 1606 rows, Test size: 402 rows\n"
     ]
    }
   ],
   "source": [
    "# Chronological 80/20 split on daily_df\n",
    "assert 'date' in daily_df.columns, \"Expected a 'date' column in daily_df.\"\n",
    "\n",
    "_df = daily_df.sort_values('date').reset_index(drop=True)\n",
    "\n",
    "X = _df.drop(columns=[target_col])\n",
    "y = _df[target_col]\n",
    "\n",
    "split_idx = int(0.8 * len(_df))\n",
    "\n",
    "X_train = X.iloc[:split_idx].reset_index(drop=True)\n",
    "y_train = y.iloc[:split_idx].reset_index(drop=True)\n",
    "\n",
    "X_test = X.iloc[split_idx:].reset_index(drop=True)\n",
    "y_test = y.iloc[split_idx:].reset_index(drop=True)\n",
    "\n",
    "print(f\"Train size: {len(X_train)} rows, Test size: {len(X_test)} rows\")"
   ]
  },
  {
   "cell_type": "code",
   "execution_count": 34,
   "metadata": {
    "id": "dkvHE5g4F3IZ"
   },
   "outputs": [],
   "source": [
    "# <Student to fill this section>\n",
    "data_splitting_explanations = \"\"\"\n",
    "Provide some explanations on what is the best strategy to use for data splitting for this dataset\n",
    "\"\"\""
   ]
  },
  {
   "cell_type": "code",
   "execution_count": 35,
   "metadata": {
    "id": "vx4_g0pLF3Lg"
   },
   "outputs": [
    {
     "data": {
      "text/html": [
       "<p style=\"color:grey\">data_splitting_explanations</p><h3 font-size: 3em>\n",
       "Provide some explanations on what is the best strategy to use for data splitting for this dataset\n",
       "</h3>"
      ],
      "text/plain": [
       "<IPython.core.display.HTML object>"
      ]
     },
     "metadata": {},
     "output_type": "display_data"
    }
   ],
   "source": [
    "# Do not modify this code\n",
    "print_tile(size=\"h3\", key='data_splitting_explanations', value=data_splitting_explanations)"
   ]
  },
  {
   "cell_type": "markdown",
   "metadata": {
    "id": "JHJ25iRRG1Gb"
   },
   "source": [
    "### G.2 Data Transformation \"\\<put_name_here\\>\""
   ]
  },
  {
   "cell_type": "code",
   "execution_count": 36,
   "metadata": {
    "id": "_PIDyg9OG17x"
   },
   "outputs": [],
   "source": [
    "# <Student to fill this section>"
   ]
  },
  {
   "cell_type": "code",
   "execution_count": 37,
   "metadata": {},
   "outputs": [],
   "source": [
    "\n",
    "for _name in ('X', 'X_train', 'X_test'):\n",
    "    _df = globals().get(_name, None)\n",
    "    if isinstance(_df, pd.DataFrame) and 'date' in _df.columns:\n",
    "        globals()[_name] = _df.drop(columns=['date'])\n",
    "\n",
    "if 'features_list' in globals():\n",
    "    features_list = [c for c in features_list if c != 'date']"
   ]
  },
  {
   "cell_type": "code",
   "execution_count": 38,
   "metadata": {
    "id": "XbWWDBacGn9n"
   },
   "outputs": [],
   "source": [
    "# <Student to fill this section>\n",
    "data_transformation_1_explanations = \"\"\"\n",
    "Provide some explanations on why you believe it is important to perform this data transformation and its impacts\n",
    "\"\"\""
   ]
  },
  {
   "cell_type": "code",
   "execution_count": 39,
   "metadata": {
    "id": "vepkbzldGn_8"
   },
   "outputs": [
    {
     "data": {
      "text/html": [
       "<p style=\"color:grey\">data_transformation_1_explanations</p><h3 font-size: 3em>\n",
       "Provide some explanations on why you believe it is important to perform this data transformation and its impacts\n",
       "</h3>"
      ],
      "text/plain": [
       "<IPython.core.display.HTML object>"
      ]
     },
     "metadata": {},
     "output_type": "display_data"
    }
   ],
   "source": [
    "# Do not modify this code\n",
    "print_tile(size=\"h3\", key='data_transformation_1_explanations', value=data_transformation_1_explanations)"
   ]
  },
  {
   "cell_type": "markdown",
   "metadata": {
    "id": "qIj277YWHdFk"
   },
   "source": [
    "---\n",
    "## H. Save Datasets\n",
    "\n",
    "> Do not change this code"
   ]
  },
  {
   "cell_type": "code",
   "execution_count": 40,
   "metadata": {
    "id": "uMNql0SzHhP2"
   },
   "outputs": [
    {
     "data": {
      "text/plain": [
       "\"# Do not modify this code\\n# Save training set\\ntry:\\n  X_train.to_csv(at.folder_path / 'X_train.csv', index=False)\\n  y_train.to_csv(at.folder_path / 'y_train.csv', index=False)\\n\\n  X_val.to_csv(at.folder_path / 'X_val.csv', index=False)\\n  y_val.to_csv(at.folder_path / 'y_val.csv', index=False)\\n\\n  X_test.to_csv(at.folder_path / 'X_test.csv', index=False)\\n  y_test.to_csv(at.folder_path / 'y_test.csv', index=False)\\nexcept Exception as e:\\n  print(e)\""
      ]
     },
     "execution_count": 40,
     "metadata": {},
     "output_type": "execute_result"
    }
   ],
   "source": [
    "'''# Do not modify this code\n",
    "# Save training set\n",
    "try:\n",
    "  X_train.to_csv(at.folder_path / 'X_train.csv', index=False)\n",
    "  y_train.to_csv(at.folder_path / 'y_train.csv', index=False)\n",
    "\n",
    "  X_val.to_csv(at.folder_path / 'X_val.csv', index=False)\n",
    "  y_val.to_csv(at.folder_path / 'y_val.csv', index=False)\n",
    "\n",
    "  X_test.to_csv(at.folder_path / 'X_test.csv', index=False)\n",
    "  y_test.to_csv(at.folder_path / 'y_test.csv', index=False)\n",
    "except Exception as e:\n",
    "  print(e)'''"
   ]
  },
  {
   "cell_type": "markdown",
   "metadata": {
    "id": "RtLjr7niHpNZ"
   },
   "source": [
    "---\n",
    "## I. Selection of Performance Metrics\n",
    "\n",
    "> Provide some explanations on why you believe the performance metrics you chose is appropriate\n"
   ]
  },
  {
   "cell_type": "code",
   "execution_count": 41,
   "metadata": {
    "id": "KV_pxLAiHxKW"
   },
   "outputs": [],
   "source": [
    "# <Student to fill this section>"
   ]
  },
  {
   "cell_type": "code",
   "execution_count": 42,
   "metadata": {
    "id": "kC949nluHR5s"
   },
   "outputs": [],
   "source": [
    "# <Student to fill this section>\n",
    "performance_metrics_explanations = \"\"\"\n",
    "Provide some explanations on why you believe the performance metrics you chose is appropriate\n",
    "\"\"\""
   ]
  },
  {
   "cell_type": "code",
   "execution_count": 43,
   "metadata": {
    "id": "wABRzU2sHR8j"
   },
   "outputs": [
    {
     "data": {
      "text/html": [
       "<p style=\"color:grey\">performance_metrics_explanations</p><h3 font-size: 3em>\n",
       "Provide some explanations on why you believe the performance metrics you chose is appropriate\n",
       "</h3>"
      ],
      "text/plain": [
       "<IPython.core.display.HTML object>"
      ]
     },
     "metadata": {},
     "output_type": "display_data"
    }
   ],
   "source": [
    "# Do not modify this code\n",
    "print_tile(size=\"h3\", key='performance_metrics_explanations', value=performance_metrics_explanations)"
   ]
  },
  {
   "cell_type": "markdown",
   "metadata": {
    "id": "ZpxjwSDYIJy6"
   },
   "source": [
    "## J. Train Machine Learning Model"
   ]
  },
  {
   "cell_type": "markdown",
   "metadata": {
    "id": "_XBy7-9PIVcU"
   },
   "source": [
    "### J.1 Import Algorithm\n",
    "\n",
    "> Provide some explanations on why you believe this algorithm is a good fit\n"
   ]
  },
  {
   "cell_type": "code",
   "execution_count": 44,
   "metadata": {},
   "outputs": [
    {
     "name": "stdout",
     "output_type": "stream",
     "text": [
      "Requirement already satisfied: xgboost in /Users/afrazrupak/weather_forecast/.venv/lib/python3.13/site-packages (3.0.5)\n",
      "Requirement already satisfied: numpy in /Users/afrazrupak/weather_forecast/.venv/lib/python3.13/site-packages (from xgboost) (2.3.3)\n",
      "Requirement already satisfied: scipy in /Users/afrazrupak/weather_forecast/.venv/lib/python3.13/site-packages (from xgboost) (1.16.2)\n"
     ]
    }
   ],
   "source": [
    "! pip install xgboost\n"
   ]
  },
  {
   "cell_type": "code",
   "execution_count": 45,
   "metadata": {
    "id": "diUB08xMIOuS"
   },
   "outputs": [],
   "source": [
    "# <Student to fill this section>\n",
    "from sklearn.dummy import DummyClassifier\n",
    "from sklearn.ensemble import RandomForestClassifier\n",
    "from sklearn.metrics import accuracy_score, precision_recall_fscore_support, roc_auc_score\n",
    "from xgboost import XGBClassifier\n"
   ]
  },
  {
   "cell_type": "code",
   "execution_count": 46,
   "metadata": {},
   "outputs": [],
   "source": [
    "results = {}"
   ]
  },
  {
   "cell_type": "code",
   "execution_count": null,
   "metadata": {},
   "outputs": [],
   "source": []
  },
  {
   "cell_type": "code",
   "execution_count": 47,
   "metadata": {},
   "outputs": [
    {
     "name": "stdout",
     "output_type": "stream",
     "text": [
      "                        accuracy  precision  recall     f1  roc_auc\n",
      "DummyClassifier           0.5796     0.5796  1.0000 0.7339   0.5000\n",
      "RandomForestClassifier    0.6020     0.6337  0.7425 0.6838   0.6261\n",
      "XGBClassifier             0.5970     0.6437  0.6824 0.6625   0.5957\n"
     ]
    }
   ],
   "source": [
    "# Train and evaluate baseline and tree-based classifiers on the prepared splits\n",
    "\n",
    "def _compute_metrics(y_true, y_pred, y_proba_pos):\n",
    "    acc = accuracy_score(y_true, y_pred)\n",
    "    prec, rec, f1, _ = precision_recall_fscore_support(\n",
    "        y_true, y_pred, average='binary', zero_division=0\n",
    "    )\n",
    "    try:\n",
    "        auc = roc_auc_score(y_true, y_proba_pos)\n",
    "    except Exception:\n",
    "        auc = float('nan')\n",
    "    return {\n",
    "        'accuracy': acc,\n",
    "        'precision': prec,\n",
    "        'recall': rec,\n",
    "        'f1': f1,\n",
    "        'roc_auc': auc,\n",
    "    }\n",
    "\n",
    "def _fit_and_eval(name, model, X_train, y_train, X_test, y_test, store_preds=False):\n",
    "    model.fit(X_train, y_train)\n",
    "    y_pred = model.predict(X_test)\n",
    "    # Use positive class probability if available\n",
    "    if hasattr(model, \"predict_proba\"):\n",
    "        y_proba_pos = model.predict_proba(X_test)[:, 1]\n",
    "    elif hasattr(model, \"decision_function\"):\n",
    "        # Fallback to decision_function if available (will scale for AUC)\n",
    "        y_proba_pos = model.decision_function(X_test)\n",
    "    else:\n",
    "        # As a last resort, use predictions (not ideal for AUC)\n",
    "        y_proba_pos = y_pred\n",
    "\n",
    "    metrics = _compute_metrics(y_test, y_pred, y_proba_pos)\n",
    "    entry = {'model': model, **metrics}\n",
    "    if store_preds:\n",
    "        entry.update({'y_pred': y_pred, 'y_proba': y_proba_pos})\n",
    "    results[name] = entry\n",
    "    return entry\n",
    "\n",
    "# Models\n",
    "dummy_clf = DummyClassifier(strategy='most_frequent', random_state=42)\n",
    "rf_clf = RandomForestClassifier(\n",
    "    n_estimators=400,\n",
    "    max_depth=None,\n",
    "    min_samples_split=2,\n",
    "    min_samples_leaf=1,\n",
    "    n_jobs=-1,\n",
    "    random_state=42\n",
    ")\n",
    "xgb_clf = XGBClassifier(\n",
    "    n_estimators=500,\n",
    "    max_depth=5,\n",
    "    learning_rate=0.05,\n",
    "    subsample=0.8,\n",
    "    colsample_bytree=0.8,\n",
    "    reg_lambda=1.0,\n",
    "    random_state=42,\n",
    "    eval_metric='logloss',\n",
    "    n_jobs=-1,\n",
    "    tree_method='hist'\n",
    ")\n",
    "\n",
    "# Fit and evaluate\n",
    "_ = _fit_and_eval(\"DummyClassifier\", dummy_clf, X_train, y_train, X_test, y_test)\n",
    "_ = _fit_and_eval(\"RandomForestClassifier\", rf_clf, X_train, y_train, X_test, y_test)\n",
    "_ = _fit_and_eval(\"XGBClassifier\", xgb_clf, X_train, y_train, X_test, y_test)\n",
    "\n",
    "# Compact summary\n",
    "summary_df = pd.DataFrame.from_dict(results, orient='index')[\n",
    "    ['accuracy', 'precision', 'recall', 'f1', 'roc_auc']\n",
    "].sort_values(by='f1', ascending=False)\n",
    "\n",
    "print(summary_df.to_string(float_format=lambda v: f\"{v:.4f}\"))"
   ]
  },
  {
   "cell_type": "code",
   "execution_count": 48,
   "metadata": {},
   "outputs": [
    {
     "name": "stdout",
     "output_type": "stream",
     "text": [
      "                          accuracy  precision  recall     f1  roc_auc\n",
      "DummyClassifier             0.5796     0.5796  1.0000 0.7339   0.5000\n",
      "RandomForest_tuned          0.6144     0.6291  0.8155 0.7103   0.6161\n",
      "RandomForest_tuned_topk     0.5995     0.6224  0.7854 0.6945   0.5885\n",
      "RandomForestClassifier      0.6020     0.6337  0.7425 0.6838   0.6261\n",
      "XGBClassifier               0.5970     0.6437  0.6824 0.6625   0.5957\n",
      "XGBClassifier_tuned         0.5871     0.6463  0.6352 0.6407   0.6078\n",
      "XGBClassifier_tuned_topk    0.5473     0.6049  0.6309 0.6176   0.5584\n",
      "\n",
      "Best params:\n",
      "RF:  {'max_depth': None, 'max_features': 'sqrt', 'min_samples_leaf': 1}\n",
      "XGB: {'colsample_bytree': 0.8, 'learning_rate': 0.05, 'max_depth': 6, 'n_estimators': 400, 'reg_lambda': 1.0, 'subsample': 0.8}  (scale_pos_weight=0.595)\n"
     ]
    }
   ],
   "source": [
    "from sklearn.model_selection import TimeSeriesSplit\n",
    "\n",
    "\n",
    "feat_top = list(top_features)\n",
    "\n",
    "tscv = TimeSeriesSplit(n_splits=3)\n",
    "\n",
    "rf_base = RandomForestClassifier(\n",
    "    n_estimators=400,\n",
    "    n_jobs=-1,\n",
    "    random_state=42,\n",
    "    class_weight='balanced'\n",
    ")\n",
    "rf_grid = {\n",
    "    'max_depth': [None, 12],\n",
    "    'min_samples_leaf': [1, 2],\n",
    "    'max_features': ['sqrt'],\n",
    "}\n",
    "rf_gs = GridSearchCV(\n",
    "    rf_base, rf_grid, scoring='f1', cv=tscv, n_jobs=-1, refit=True, verbose=0\n",
    ")\n",
    "rf_gs.fit(X_train, y_train)\n",
    "rf_best = rf_gs.best_estimator_\n",
    "\n",
    "_ = _fit_and_eval(\"RandomForest_tuned\", rf_best, X_train, y_train, X_test, y_test)\n",
    "\n",
    "\n",
    "rf_best_top = RandomForestClassifier(**rf_best.get_params())\n",
    "_ = _fit_and_eval(\n",
    "    \"RandomForest_tuned_topk\",\n",
    "    rf_best_top.fit(X_train[feat_top], y_train),\n",
    "    X_train[feat_top],\n",
    "    y_train,\n",
    "    X_test[feat_top],\n",
    "    y_test\n",
    ")\n",
    "\n",
    "\n",
    "pos = (y_train == 1).sum()\n",
    "neg = len(y_train) - pos\n",
    "pos_weight = (neg / max(pos, 1))\n",
    "\n",
    "xgb_base = XGBClassifier(\n",
    "    random_state=42,\n",
    "    n_jobs=-1,\n",
    "    eval_metric='logloss',\n",
    "    tree_method='hist',\n",
    "    scale_pos_weight=pos_weight\n",
    ")\n",
    "xgb_grid = {\n",
    "    'n_estimators': [400],\n",
    "    'max_depth': [4, 6],\n",
    "    'learning_rate': [0.05, 0.1],\n",
    "    'subsample': [0.8],\n",
    "    'colsample_bytree': [0.8],\n",
    "    'reg_lambda': [1.0, 3.0],\n",
    "}\n",
    "xgb_gs = GridSearchCV(\n",
    "    xgb_base, xgb_grid, scoring='f1', cv=tscv, n_jobs=-1, refit=True, verbose=0\n",
    ")\n",
    "xgb_gs.fit(X_train, y_train)\n",
    "xgb_best = xgb_gs.best_estimator_\n",
    "\n",
    "_ = _fit_and_eval(\"XGBClassifier_tuned\", xgb_best, X_train, y_train, X_test, y_test)\n",
    "\n",
    "\n",
    "xgb_best_top = XGBClassifier(**xgb_best.get_params())\n",
    "_ = _fit_and_eval(\n",
    "    \"XGBClassifier_tuned_topk\",\n",
    "    xgb_best_top.fit(X_train[feat_top], y_train),\n",
    "    X_train[feat_top],\n",
    "    y_train,\n",
    "    X_test[feat_top],\n",
    "    y_test\n",
    ")\n",
    "\n",
    "\n",
    "summary_df = pd.DataFrame.from_dict(results, orient='index')[\n",
    "    ['accuracy', 'precision', 'recall', 'f1', 'roc_auc']\n",
    "].sort_values(by='f1', ascending=False)\n",
    "print(summary_df.to_string(float_format=lambda v: f\"{v:.4f}\"))\n",
    "\n",
    "print(\"\\nBest params:\")\n",
    "print(f\"RF:  {rf_gs.best_params_}\")\n",
    "print(f\"XGB: {xgb_gs.best_params_}  (scale_pos_weight={pos_weight:.3f})\")"
   ]
  },
  {
   "cell_type": "code",
   "execution_count": 49,
   "metadata": {
    "id": "GIWOpv6CGUTE"
   },
   "outputs": [],
   "source": [
    "# <Student to fill this section>\n",
    "algorithm_selection_explanations = \"\"\"\n",
    "Provide some explanations on why you believe this algorithm is a good fit\n",
    "\"\"\""
   ]
  },
  {
   "cell_type": "code",
   "execution_count": 50,
   "metadata": {
    "id": "N4yogQ9aGUVe"
   },
   "outputs": [
    {
     "data": {
      "text/html": [
       "<p style=\"color:grey\">algorithm_selection_explanations</p><h3 font-size: 3em>\n",
       "Provide some explanations on why you believe this algorithm is a good fit\n",
       "</h3>"
      ],
      "text/plain": [
       "<IPython.core.display.HTML object>"
      ]
     },
     "metadata": {},
     "output_type": "display_data"
    }
   ],
   "source": [
    "# Do not modify this code\n",
    "print_tile(size=\"h3\", key='algorithm_selection_explanations', value=algorithm_selection_explanations)"
   ]
  },
  {
   "cell_type": "markdown",
   "metadata": {
    "id": "0ks_MmM2mCfm"
   },
   "source": [
    "### J.2 Set Hyperparameters\n",
    "\n",
    "> Provide some explanations on why you believe this algorithm is a good fit\n"
   ]
  },
  {
   "cell_type": "code",
   "execution_count": 51,
   "metadata": {
    "id": "NUswpGVLmDXl"
   },
   "outputs": [],
   "source": [
    "# <Student to fill this section>"
   ]
  },
  {
   "cell_type": "code",
   "execution_count": 52,
   "metadata": {
    "id": "crG_Bm72HfL-"
   },
   "outputs": [],
   "source": [
    "# <Student to fill this section>\n",
    "hyperparameters_selection_explanations = \"\"\"\n",
    "Explain why you are tuning these hyperparameters\n",
    "\"\"\""
   ]
  },
  {
   "cell_type": "code",
   "execution_count": 53,
   "metadata": {
    "id": "k0uqlRCVHfQI"
   },
   "outputs": [
    {
     "data": {
      "text/html": [
       "<p style=\"color:grey\">hyperparameters_selection_explanations</p><h3 font-size: 3em>\n",
       "Explain why you are tuning these hyperparameters\n",
       "</h3>"
      ],
      "text/plain": [
       "<IPython.core.display.HTML object>"
      ]
     },
     "metadata": {},
     "output_type": "display_data"
    }
   ],
   "source": [
    "# Do not modify this code\n",
    "print_tile(size=\"h3\", key='hyperparameters_selection_explanations', value=hyperparameters_selection_explanations)"
   ]
  },
  {
   "cell_type": "markdown",
   "metadata": {
    "id": "VDjdjQjFmkLe"
   },
   "source": [
    "### J.3 Fit Model"
   ]
  },
  {
   "cell_type": "code",
   "execution_count": 54,
   "metadata": {
    "id": "0Ub3Nrdgmm2N"
   },
   "outputs": [],
   "source": [
    "# <Student to fill this section>"
   ]
  },
  {
   "cell_type": "markdown",
   "metadata": {
    "id": "q43YtqpdeniY"
   },
   "source": [
    "### J.4 Model Technical Performance\n",
    "\n",
    "> Provide some explanations on model performance\n"
   ]
  },
  {
   "cell_type": "code",
   "execution_count": 55,
   "metadata": {
    "id": "x1Q3oxoNhez5"
   },
   "outputs": [],
   "source": [
    "# <Student to fill this section>"
   ]
  },
  {
   "cell_type": "code",
   "execution_count": 56,
   "metadata": {
    "id": "_YbQldshHk_3"
   },
   "outputs": [],
   "source": [
    "# <Student to fill this section>\n",
    "model_performance_explanations = \"\"\"\n",
    "Provide some explanations on model performance\n",
    "\"\"\""
   ]
  },
  {
   "cell_type": "code",
   "execution_count": 57,
   "metadata": {
    "id": "-MkLnLzVHlDO"
   },
   "outputs": [
    {
     "data": {
      "text/html": [
       "<p style=\"color:grey\">model_performance_explanations</p><h3 font-size: 3em>\n",
       "Provide some explanations on model performance\n",
       "</h3>"
      ],
      "text/plain": [
       "<IPython.core.display.HTML object>"
      ]
     },
     "metadata": {},
     "output_type": "display_data"
    }
   ],
   "source": [
    "# Do not modify this code\n",
    "print_tile(size=\"h3\", key='model_performance_explanations', value=model_performance_explanations)"
   ]
  },
  {
   "cell_type": "markdown",
   "metadata": {
    "id": "W1HgZMPcmtu7"
   },
   "source": [
    "### J.5 Business Impact from Current Model Performance\n",
    "\n",
    "> Provide some analysis on the model impacts from the business point of view\n"
   ]
  },
  {
   "cell_type": "code",
   "execution_count": 58,
   "metadata": {
    "id": "XGq2RWyqmuKM"
   },
   "outputs": [],
   "source": [
    "# <Student to fill this section>"
   ]
  },
  {
   "cell_type": "code",
   "execution_count": 59,
   "metadata": {
    "id": "7bcCHiP-Hozj"
   },
   "outputs": [],
   "source": [
    "# <Student to fill this section>\n",
    "business_impacts_explanations = \"\"\"\n",
    "Interpret the results of the experiments related to the business objective set earlier. Estimate the impacts of the incorrect results for the business (some results may have more impact compared to others)\n",
    "\"\"\""
   ]
  },
  {
   "cell_type": "code",
   "execution_count": 60,
   "metadata": {
    "id": "RQ3lJGAnHo3O"
   },
   "outputs": [
    {
     "data": {
      "text/html": [
       "<p style=\"color:grey\">business_impacts_explanations</p><h3 font-size: 3em>\n",
       "Interpret the results of the experiments related to the business objective set earlier. Estimate the impacts of the incorrect results for the business (some results may have more impact compared to others)\n",
       "</h3>"
      ],
      "text/plain": [
       "<IPython.core.display.HTML object>"
      ]
     },
     "metadata": {},
     "output_type": "display_data"
    }
   ],
   "source": [
    "# Do not modify this code\n",
    "print_tile(size=\"h3\", key='business_impacts_explanations', value=business_impacts_explanations)"
   ]
  },
  {
   "cell_type": "markdown",
   "metadata": {
    "id": "mp1Ie9o8nDl1"
   },
   "source": [
    "## H. Project Outcomes"
   ]
  },
  {
   "cell_type": "code",
   "execution_count": 61,
   "metadata": {
    "id": "AvFNheh1HtPb"
   },
   "outputs": [],
   "source": [
    "# <Student to fill this section>\n",
    "experiment_outcome = \"\" # Either 'Hypothesis Confirmed', 'Hypothesis Partially Confirmed' or 'Hypothesis Rejected'"
   ]
  },
  {
   "cell_type": "code",
   "execution_count": 62,
   "metadata": {
    "id": "23bFWNIVHtTU"
   },
   "outputs": [
    {
     "data": {
      "text/html": [
       "<p style=\"color:grey\">experiment_outcomes_explanations</p><h2 font-size: 3em></h2>"
      ],
      "text/plain": [
       "<IPython.core.display.HTML object>"
      ]
     },
     "metadata": {},
     "output_type": "display_data"
    }
   ],
   "source": [
    "# Do not modify this code\n",
    "print_tile(size=\"h2\", key='experiment_outcomes_explanations', value=experiment_outcome)"
   ]
  },
  {
   "cell_type": "code",
   "execution_count": 63,
   "metadata": {
    "id": "iFF8wsz6HteA"
   },
   "outputs": [],
   "source": [
    "# <Student to fill this section>\n",
    "experiment_results_explanations = \"\"\"\n",
    "Reflect on the outcome of the experiment and list the new insights you gained from it. Provide rationale for pursuing more experimentation with the current approach or call out if you think it is a dead end.\n",
    "Given the results achieved and the overall objective of the project, list the potential next steps and experiments. For each of them assess the expected uplift or gains and rank them accordingly. If the experiment achieved the required outcome for the business, recommend the steps to deploy this solution into production.\n",
    "\"\"\""
   ]
  },
  {
   "cell_type": "code",
   "execution_count": 64,
   "metadata": {
    "id": "QpWzEhX2HthW"
   },
   "outputs": [
    {
     "data": {
      "text/html": [
       "<p style=\"color:grey\">experiment_results_explanations</p><h2 font-size: 3em>\n",
       "Reflect on the outcome of the experiment and list the new insights you gained from it. Provide rationale for pursuing more experimentation with the current approach or call out if you think it is a dead end.\n",
       "Given the results achieved and the overall objective of the project, list the potential next steps and experiments. For each of them assess the expected uplift or gains and rank them accordingly. If the experiment achieved the required outcome for the business, recommend the steps to deploy this solution into production.\n",
       "</h2>"
      ],
      "text/plain": [
       "<IPython.core.display.HTML object>"
      ]
     },
     "metadata": {},
     "output_type": "display_data"
    }
   ],
   "source": [
    "# Do not modify this code\n",
    "print_tile(size=\"h2\", key='experiment_results_explanations', value=experiment_results_explanations)"
   ]
  },
  {
   "cell_type": "code",
   "execution_count": 66,
   "metadata": {
    "id": "4-Fz8eeLH1GR"
   },
   "outputs": [
    {
     "data": {
      "text/html": [
       "<div>\n",
       "<style scoped>\n",
       "    .dataframe tbody tr th:only-of-type {\n",
       "        vertical-align: middle;\n",
       "    }\n",
       "\n",
       "    .dataframe tbody tr th {\n",
       "        vertical-align: top;\n",
       "    }\n",
       "\n",
       "    .dataframe thead th {\n",
       "        text-align: right;\n",
       "    }\n",
       "</style>\n",
       "<table border=\"1\" class=\"dataframe\">\n",
       "  <thead>\n",
       "    <tr style=\"text-align: right;\">\n",
       "      <th></th>\n",
       "      <th>accuracy</th>\n",
       "      <th>precision</th>\n",
       "      <th>recall</th>\n",
       "      <th>f1</th>\n",
       "      <th>roc_auc</th>\n",
       "    </tr>\n",
       "  </thead>\n",
       "  <tbody>\n",
       "    <tr>\n",
       "      <th>DummyClassifier</th>\n",
       "      <td>0.579602</td>\n",
       "      <td>0.579602</td>\n",
       "      <td>1.000000</td>\n",
       "      <td>0.733858</td>\n",
       "      <td>0.500000</td>\n",
       "    </tr>\n",
       "    <tr>\n",
       "      <th>RandomForest_tuned</th>\n",
       "      <td>0.614428</td>\n",
       "      <td>0.629139</td>\n",
       "      <td>0.815451</td>\n",
       "      <td>0.710280</td>\n",
       "      <td>0.616134</td>\n",
       "    </tr>\n",
       "    <tr>\n",
       "      <th>RandomForest_tuned_topk</th>\n",
       "      <td>0.599502</td>\n",
       "      <td>0.622449</td>\n",
       "      <td>0.785408</td>\n",
       "      <td>0.694497</td>\n",
       "      <td>0.588542</td>\n",
       "    </tr>\n",
       "    <tr>\n",
       "      <th>RandomForestClassifier</th>\n",
       "      <td>0.601990</td>\n",
       "      <td>0.633700</td>\n",
       "      <td>0.742489</td>\n",
       "      <td>0.683794</td>\n",
       "      <td>0.626102</td>\n",
       "    </tr>\n",
       "    <tr>\n",
       "      <th>XGBClassifier</th>\n",
       "      <td>0.597015</td>\n",
       "      <td>0.643725</td>\n",
       "      <td>0.682403</td>\n",
       "      <td>0.662500</td>\n",
       "      <td>0.595678</td>\n",
       "    </tr>\n",
       "    <tr>\n",
       "      <th>XGBClassifier_tuned</th>\n",
       "      <td>0.587065</td>\n",
       "      <td>0.646288</td>\n",
       "      <td>0.635193</td>\n",
       "      <td>0.640693</td>\n",
       "      <td>0.607791</td>\n",
       "    </tr>\n",
       "    <tr>\n",
       "      <th>XGBClassifier_tuned_topk</th>\n",
       "      <td>0.547264</td>\n",
       "      <td>0.604938</td>\n",
       "      <td>0.630901</td>\n",
       "      <td>0.617647</td>\n",
       "      <td>0.558448</td>\n",
       "    </tr>\n",
       "  </tbody>\n",
       "</table>\n",
       "</div>"
      ],
      "text/plain": [
       "                          accuracy  precision    recall        f1   roc_auc\n",
       "DummyClassifier           0.579602   0.579602  1.000000  0.733858  0.500000\n",
       "RandomForest_tuned        0.614428   0.629139  0.815451  0.710280  0.616134\n",
       "RandomForest_tuned_topk   0.599502   0.622449  0.785408  0.694497  0.588542\n",
       "RandomForestClassifier    0.601990   0.633700  0.742489  0.683794  0.626102\n",
       "XGBClassifier             0.597015   0.643725  0.682403  0.662500  0.595678\n",
       "XGBClassifier_tuned       0.587065   0.646288  0.635193  0.640693  0.607791\n",
       "XGBClassifier_tuned_topk  0.547264   0.604938  0.630901  0.617647  0.558448"
      ]
     },
     "execution_count": 66,
     "metadata": {},
     "output_type": "execute_result"
    }
   ],
   "source": [
    "summary_df"
   ]
  },
  {
   "cell_type": "code",
   "execution_count": 65,
   "metadata": {
    "id": "ctaHoeX-H1Ix"
   },
   "outputs": [
    {
     "ename": "Exception",
     "evalue": "STOP - Do not proceed beyond this point until you have filled all the sections",
     "output_type": "error",
     "traceback": [
      "\u001b[31m---------------------------------------------------------------------------\u001b[39m",
      "\u001b[31mException\u001b[39m                                 Traceback (most recent call last)",
      "\u001b[36mCell\u001b[39m\u001b[36m \u001b[39m\u001b[32mIn[65]\u001b[39m\u001b[32m, line 1\u001b[39m\n\u001b[32m----> \u001b[39m\u001b[32m1\u001b[39m \u001b[38;5;28;01mraise\u001b[39;00m \u001b[38;5;167;01mException\u001b[39;00m(\u001b[33m\"\u001b[39m\u001b[33mSTOP - Do not proceed beyond this point until you have filled all the sections\u001b[39m\u001b[33m\"\u001b[39m)\n",
      "\u001b[31mException\u001b[39m: STOP - Do not proceed beyond this point until you have filled all the sections"
     ]
    }
   ],
   "source": [
    "raise Exception(\"STOP - Do not proceed beyond this point until you have filled all the sections\")"
   ]
  },
  {
   "cell_type": "markdown",
   "metadata": {},
   "source": [
    "### J.6 Save Best Model\n",
    "\n",
    "> Save the best performing model for future use"
   ]
  },
  {
   "cell_type": "code",
   "execution_count": 67,
   "metadata": {},
   "outputs": [
    {
     "name": "stdout",
     "output_type": "stream",
     "text": [
      "Best Model: RandomForest_tuned_topk\n",
      "Best F1 Score: 0.6945\n",
      "\n",
      "Model saved as:\n",
      "- Pickle: /Users/afrazrupak/weather_forecast/weather_forecast/models/rain_classifier_best_RandomForest_tuned_topk_20250929_004019.pkl\n",
      "- Joblib: /Users/afrazrupak/weather_forecast/weather_forecast/models/rain_classifier_best_RandomForest_tuned_topk_20250929_004019.joblib\n"
     ]
    }
   ],
   "source": [
    "import pickle\n",
    "import joblib\n",
    "import os\n",
    "from datetime import datetime\n",
    "\n",
    "# Create models directory if it doesn't exist\n",
    "models_dir = '/Users/afrazrupak/weather_forecast/weather_forecast/models'\n",
    "os.makedirs(models_dir, exist_ok=True)\n",
    "\n",
    "# Find the best model based on F1 score\n",
    "best_model_name = summary_df.index[2]  # Top model from sorted summary\n",
    "best_model = results[best_model_name]['model']\n",
    "best_f1_score = results[best_model_name]['f1']\n",
    "\n",
    "print(f\"Best Model: {best_model_name}\")\n",
    "print(f\"Best F1 Score: {best_f1_score:.4f}\")\n",
    "\n",
    "# Create timestamp for versioning\n",
    "timestamp = datetime.now().strftime('%Y%m%d_%H%M%S')\n",
    "\n",
    "# Save the model using both pickle and joblib (joblib is better for sklearn models)\n",
    "model_filename_pkl = f'rain_classifier_best_{best_model_name}_{timestamp}.pkl'\n",
    "model_filename_joblib = f'rain_classifier_best_{best_model_name}_{timestamp}.joblib'\n",
    "\n",
    "model_path_pkl = os.path.join(models_dir, model_filename_pkl)\n",
    "model_path_joblib = os.path.join(models_dir, model_filename_joblib)\n",
    "\n",
    "# Save with pickle\n",
    "with open(model_path_pkl, 'wb') as f:\n",
    "    pickle.dump(best_model, f)\n",
    "\n",
    "# Save with joblib (recommended for sklearn models)\n",
    "joblib.dump(best_model, model_path_joblib)\n",
    "\n",
    "print(f\"\\nModel saved as:\")\n",
    "print(f\"- Pickle: {model_path_pkl}\")\n",
    "print(f\"- Joblib: {model_path_joblib}\")"
   ]
  },
  {
   "cell_type": "code",
   "execution_count": 69,
   "metadata": {},
   "outputs": [
    {
     "name": "stdout",
     "output_type": "stream",
     "text": [
      "Model metadata saved: /Users/afrazrupak/weather_forecast/weather_forecast/models/rain_classifier_metadata_RandomForest_tuned_topk_20250929_004019.json\n"
     ]
    }
   ],
   "source": [
    "# Save model metadata and performance metrics\n",
    "import json\n",
    "\n",
    "# Prepare metadata\n",
    "model_metadata = {\n",
    "    'model_name': best_model_name,\n",
    "    'model_type': type(best_model).__name__,\n",
    "    'timestamp': timestamp,\n",
    "    'training_date': datetime.now().isoformat(),\n",
    "    'performance_metrics': {\n",
    "        'accuracy': float(results[best_model_name]['accuracy']),\n",
    "        'precision': float(results[best_model_name]['precision']),\n",
    "        'recall': float(results[best_model_name]['recall']),\n",
    "        'f1_score': float(results[best_model_name]['f1']),\n",
    "        'roc_auc': float(results[best_model_name]['roc_auc'])\n",
    "    },\n",
    "    'model_parameters': best_model.get_params(),\n",
    "    'features_used': list(X_train.columns) if hasattr(X_train, 'columns') else 'all_features',\n",
    "    'training_samples': len(X_train),\n",
    "    'test_samples': len(X_test),\n",
    "    'target_variable': target_col,\n",
    "    'data_split_method': 'chronological_80_20'\n",
    "}\n",
    "\n",
    "# Save metadata\n",
    "metadata_filename = f'rain_classifier_metadata_{best_model_name}_{timestamp}.json'\n",
    "metadata_path = os.path.join(models_dir, metadata_filename)\n",
    "\n",
    "with open(metadata_path, 'w') as f:\n",
    "    json.dump(model_metadata, f, indent=2, default=str)\n",
    "\n",
    "print(f\"Model metadata saved: {metadata_path}\")"
   ]
  },
  {
   "cell_type": "code",
   "execution_count": 71,
   "metadata": {},
   "outputs": [
    {
     "name": "stdout",
     "output_type": "stream",
     "text": [
      "Feature importance saved: /Users/afrazrupak/weather_forecast/weather_forecast/models/feature_importance_RandomForest_tuned_topk_20250929_004019.csv\n",
      "\n",
      "Top 10 Most Important Features:\n",
      "                       feature  importance\n",
      "0            daylight_duration    0.143082\n",
      "2           temperature_2m_min    0.121750\n",
      "5  wind_direction_10m_dominant    0.110026\n",
      "4      shortwave_radiation_sum    0.109952\n",
      "6            pressure_msl_mean    0.107680\n",
      "1          temperature_2m_mean    0.105601\n",
      "3           temperature_2m_max    0.099236\n",
      "8     relative_humidity_2m_min    0.090815\n",
      "7     relative_humidity_2m_max    0.072408\n",
      "9                        month    0.039450\n"
     ]
    }
   ],
   "source": [
    "# Save feature importance if available\n",
    "if hasattr(best_model, 'feature_importances_'):\n",
    "    importances = best_model.feature_importances_\n",
    "    n_importances = len(importances)\n",
    "\n",
    "    # Determine the exact feature names the model was trained with\n",
    "    feature_names = getattr(best_model, 'feature_names_in_', None)\n",
    "    if feature_names is not None:\n",
    "        feature_names = list(feature_names)\n",
    "    elif 'feat_top' in globals() and len(feat_top) == n_importances:\n",
    "        feature_names = list(feat_top)\n",
    "    elif hasattr(X_train, 'columns') and len(X_train.columns) == n_importances:\n",
    "        feature_names = list(X_train.columns)\n",
    "    else:\n",
    "        feature_names = [f'feature_{i}' for i in range(n_importances)]\n",
    "\n",
    "    feature_importance_df = pd.DataFrame(\n",
    "        {'feature': feature_names, 'importance': importances}\n",
    "    ).sort_values('importance', ascending=False)\n",
    "    \n",
    "    # Save feature importance\n",
    "    importance_filename = f'feature_importance_{best_model_name}_{timestamp}.csv'\n",
    "    importance_path = os.path.join(models_dir, importance_filename)\n",
    "    feature_importance_df.to_csv(importance_path, index=False)\n",
    "    \n",
    "    print(f\"Feature importance saved: {importance_path}\")\n",
    "    print(\"\\nTop 10 Most Important Features:\")\n",
    "    print(feature_importance_df.head(10))\n",
    "else:\n",
    "    print(\"Feature importance not available for this model type\")"
   ]
  },
  {
   "cell_type": "code",
   "execution_count": 72,
   "metadata": {},
   "outputs": [
    {
     "name": "stdout",
     "output_type": "stream",
     "text": [
      "\n",
      "RAIN PREDICTION MODEL SUMMARY\n",
      "==============================\n",
      "\n",
      "Model Information:\n",
      "- Name: RandomForest_tuned_topk\n",
      "- Type: RandomForestClassifier\n",
      "- Training Date: 2025-09-29 00:42:11\n",
      "- Target Variable: rain_in_7_days\n",
      "\n",
      "Performance Metrics:\n",
      "- Accuracy: 0.5995\n",
      "- Precision: 0.6224\n",
      "- Recall: 0.7854\n",
      "- F1 Score: 0.6945\n",
      "- ROC AUC: 0.5885\n",
      "\n",
      "Dataset Information:\n",
      "- Training Samples: 1606\n",
      "- Test Samples: 402\n",
      "- Features Used: 16\n",
      "\n",
      "Files Saved:\n",
      "- Model (Pickle): rain_classifier_best_RandomForest_tuned_topk_20250929_004019.pkl\n",
      "- Model (Joblib): rain_classifier_best_RandomForest_tuned_topk_20250929_004019.joblib\n",
      "- Metadata: rain_classifier_metadata_RandomForest_tuned_topk_20250929_004019.json\n",
      "- Feature Importance: feature_importance_RandomForest_tuned_topk_20250929_004019.csv\n",
      "\n",
      "Usage Instructions:\n",
      "To load and use this model:\n",
      "```python\n",
      "import joblib\n",
      "model = joblib.load('/Users/afrazrupak/weather_forecast/weather_forecast/models/rain_classifier_best_RandomForest_tuned_topk_20250929_004019.joblib')\n",
      "predictions = model.predict(new_data)\n",
      "```\n",
      "\n",
      "\n",
      "Model summary saved: /Users/afrazrupak/weather_forecast/weather_forecast/models/model_summary_RandomForest_tuned_topk_20250929_004019.txt\n"
     ]
    }
   ],
   "source": [
    "# Create a comprehensive model summary report\n",
    "model_summary = f\"\"\"\n",
    "RAIN PREDICTION MODEL SUMMARY\n",
    "==============================\n",
    "\n",
    "Model Information:\n",
    "- Name: {best_model_name}\n",
    "- Type: {type(best_model).__name__}\n",
    "- Training Date: {datetime.now().strftime('%Y-%m-%d %H:%M:%S')}\n",
    "- Target Variable: {target_col}\n",
    "\n",
    "Performance Metrics:\n",
    "- Accuracy: {results[best_model_name]['accuracy']:.4f}\n",
    "- Precision: {results[best_model_name]['precision']:.4f}\n",
    "- Recall: {results[best_model_name]['recall']:.4f}\n",
    "- F1 Score: {results[best_model_name]['f1']:.4f}\n",
    "- ROC AUC: {results[best_model_name]['roc_auc']:.4f}\n",
    "\n",
    "Dataset Information:\n",
    "- Training Samples: {len(X_train)}\n",
    "- Test Samples: {len(X_test)}\n",
    "- Features Used: {len(X_train.columns) if hasattr(X_train, 'columns') else 'Unknown'}\n",
    "\n",
    "Files Saved:\n",
    "- Model (Pickle): {model_filename_pkl}\n",
    "- Model (Joblib): {model_filename_joblib}\n",
    "- Metadata: {metadata_filename}\n",
    "- Feature Importance: {importance_filename if hasattr(best_model, 'feature_importances_') else 'N/A'}\n",
    "\n",
    "Usage Instructions:\n",
    "To load and use this model:\n",
    "```python\n",
    "import joblib\n",
    "model = joblib.load('{model_path_joblib}')\n",
    "predictions = model.predict(new_data)\n",
    "```\n",
    "\"\"\"\n",
    "\n",
    "print(model_summary)\n",
    "\n",
    "# Save the summary as a text file\n",
    "summary_filename = f'model_summary_{best_model_name}_{timestamp}.txt'\n",
    "summary_path = os.path.join(models_dir, summary_filename)\n",
    "\n",
    "with open(summary_path, 'w') as f:\n",
    "    f.write(model_summary)\n",
    "\n",
    "print(f\"\\nModel summary saved: {summary_path}\")"
   ]
  },
  {
   "cell_type": "code",
   "execution_count": 74,
   "metadata": {},
   "outputs": [
    {
     "name": "stdout",
     "output_type": "stream",
     "text": [
      "\n",
      "Verifying saved model...\n",
      "Model loaded successfully: True\n",
      "✓ Saved model produces identical predictions to original model\n",
      "\n",
      "File sizes:\n",
      "- Pickle file: 20.51 MB\n",
      "- Joblib file: 20.53 MB\n"
     ]
    }
   ],
   "source": [
    "# Verify that the saved model can be loaded and works correctly\n",
    "print(\"\\nVerifying saved model...\")\n",
    "\n",
    "# Load the model\n",
    "loaded_model = joblib.load(model_path_joblib)\n",
    "\n",
    "# Use the exact feature set the model was trained with\n",
    "feature_cols = getattr(best_model, 'feature_names_in_', None)\n",
    "if feature_cols is None:\n",
    "    feature_cols = feat_top if 'feat_top' in globals() else X_test.columns\n",
    "feature_cols = list(feature_cols)\n",
    "\n",
    "# Test prediction on a small sample with correct columns\n",
    "test_sample = X_test[feature_cols].head(5)\n",
    "original_predictions = best_model.predict(test_sample)\n",
    "loaded_predictions = loaded_model.predict(test_sample)\n",
    "\n",
    "# Verify predictions match (avoid needing np by using ndarray all())\n",
    "predictions_match = (original_predictions == loaded_predictions).all()\n",
    "\n",
    "print(f\"Model loaded successfully: {predictions_match}\")\n",
    "if predictions_match:\n",
    "    print(\"✓ Saved model produces identical predictions to original model\")\n",
    "else:\n",
    "    print(\"✗ Warning: Saved model predictions differ from original model\")\n",
    "\n",
    "# Display file sizes\n",
    "pkl_size = os.path.getsize(model_path_pkl) / (1024*1024)  # MB\n",
    "joblib_size = os.path.getsize(model_path_joblib) / (1024*1024)  # MB\n",
    "\n",
    "print(f\"\\nFile sizes:\")\n",
    "print(f\"- Pickle file: {pkl_size:.2f} MB\")\n",
    "print(f\"- Joblib file: {joblib_size:.2f} MB\")"
   ]
  }
 ],
 "metadata": {
  "colab": {
   "provenance": [
    {
     "file_id": "13MHsQlFmfLuY1rWjvW73WSaDUaRPENW4",
     "timestamp": 1680399055727
    }
   ],
   "toc_visible": true
  },
  "kernelspec": {
   "display_name": ".venv",
   "language": "python",
   "name": "python3"
  },
  "language_info": {
   "codemirror_mode": {
    "name": "ipython",
    "version": 3
   },
   "file_extension": ".py",
   "mimetype": "text/x-python",
   "name": "python",
   "nbconvert_exporter": "python",
   "pygments_lexer": "ipython3",
   "version": "3.13.5"
  }
 },
 "nbformat": 4,
 "nbformat_minor": 0
}
